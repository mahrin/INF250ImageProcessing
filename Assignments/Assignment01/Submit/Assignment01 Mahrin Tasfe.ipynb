{
 "cells": [
  {
   "cell_type": "markdown",
   "id": "6eade66b",
   "metadata": {},
   "source": [
    "## INF250: Mandatory Exercise01\n",
    "\n",
    "- Author: Mahrin Tasfe\n",
    "- Email: mahrin.tasfe@nmbu.no\n",
    "\n",
    "### Solution starts here"
   ]
  },
  {
   "cell_type": "code",
   "execution_count": null,
   "id": "440832bc",
   "metadata": {},
   "outputs": [],
   "source": [
    "# importing all the necessary modules\n",
    "import numpy as np\n",
    "from skimage import io\n",
    "import matplotlib.pyplot as plt"
   ]
  },
  {
   "cell_type": "code",
   "execution_count": null,
   "id": "c0ea739e",
   "metadata": {},
   "outputs": [],
   "source": [
    "def get_image(name):\n",
    "    \"\"\" Using the skimage.io import the image with given file name.\n",
    "    This function returns the color image as numpy array \"\"\"\n",
    "    \n",
    "    filename = '../Images/'+name\n",
    "    image = io.imread(filename)\n",
    "\n",
    "    return image"
   ]
  },
  {
   "cell_type": "code",
   "execution_count": null,
   "id": "a938ae9c",
   "metadata": {},
   "outputs": [],
   "source": [
    "def show_image(image, label =\"Image:\"):\n",
    "    \"\"\"This function shows/plots the given image.\"\"\"\n",
    "    plt.subplots(1, 1, figsize = (7,5))\n",
    "    plt.title(label = label, fontsize = 12)\n",
    "    plt.imshow(image, cmap='gray') \n",
    "    plt.show()"
   ]
  },
  {
   "cell_type": "code",
   "execution_count": null,
   "id": "4bd48c07",
   "metadata": {},
   "outputs": [],
   "source": [
    "#importing the original image and plotting it\n",
    "image = get_image(\"gingerbreads.jpg\")\n",
    "show_image(image, \"Original image\")"
   ]
  },
  {
   "cell_type": "code",
   "execution_count": null,
   "id": "908615e7",
   "metadata": {},
   "outputs": [],
   "source": [
    "def histogram(image):\n",
    "    \"\"\"Returns the histogram with 256 bins.\"\"\"\n",
    "    # Setup\n",
    "    shape = np.shape(image)\n",
    "    hist = np.zeros(256)\n",
    "\n",
    "    if len(shape) == 3:#making sure it is a color/RGB image\n",
    "        image = image.mean(axis=2)\n",
    "    elif len(shape) > 3:\n",
    "        raise ValueError('Must be at 2D image')\n",
    "\n",
    "    # Start to make the histogram\n",
    "    ## WRITE YOUR CODE HERE\n",
    "\n",
    "    for i in range(shape[0]):\n",
    "        for j in range(shape[1]):\n",
    "            pixval = int(image[i,j])\n",
    "            hist[pixval] += 1\n",
    "\n",
    "    return hist"
   ]
  },
  {
   "cell_type": "code",
   "execution_count": null,
   "id": "f1c4c4fe",
   "metadata": {},
   "outputs": [],
   "source": [
    "def show_histogram(histogram, label = \"Histogram with 256 bins\"):\n",
    "    \"\"\"This function plots the given histogram (in the numpy array format)\"\"\"\n",
    "    plt.figure()       \n",
    "    plt.title(label = label, fontsize=12)\n",
    "    plt.plot(histogram)\n",
    "    plt.show()"
   ]
  },
  {
   "cell_type": "code",
   "execution_count": null,
   "id": "e63d9ad1",
   "metadata": {},
   "outputs": [],
   "source": [
    "#Generating histogram for the original image & plotting it\n",
    "histogram_ans = histogram(image)\n",
    "show_histogram(histogram_ans)"
   ]
  },
  {
   "cell_type": "code",
   "execution_count": null,
   "id": "b64a9b14",
   "metadata": {},
   "outputs": [],
   "source": [
    "def otsu(image):\n",
    "    \"\"\"Finds the optimal threshold value of given image using Otsu's method.\"\"\"\n",
    "    \n",
    "    hist = histogram(image) #Obtaining the histogram of the image\n",
    "    th = 0\n",
    "\n",
    "    ## WRITE YOUR CODE HERE\n",
    "    max_t = 0\n",
    "    weight_denominator = sum(hist)\n",
    "    max_between_class_variance = 0\n",
    "    for t in range(1, 256):# skipping the 1st iteration t = 0, \n",
    "        #because it will generate a division by zero error while calculating the means u_b & u_f\n",
    "        \n",
    "        w_b_top = sum(hist[0:t+1])\n",
    "        w_b = w_b_top/weight_denominator\n",
    "   \n",
    "        u_b_top = 0\n",
    "        u_b_bottom = 0\n",
    "        for i in range(0, t+1):\n",
    "            u_b_top += (i*hist[i])\n",
    "            u_b_bottom+= (hist[i])\n",
    "        u_b = u_b_top/u_b_bottom\n",
    "\n",
    "            \n",
    "        w_f_top = sum(hist[t:256])\n",
    "        w_f = w_f_top/weight_denominator            \n",
    "\n",
    "        \n",
    "        u_f_top = 0\n",
    "        u_f_bottom = 0\n",
    "        for i in range(t, 256):\n",
    "            u_f_top += (i*hist[i])\n",
    "            u_f_bottom+= hist[i]\n",
    "        u_f = u_f_top/u_f_bottom\n",
    "\n",
    "        \n",
    "        current_between_class_variance = w_b*w_f*((u_b - u_f)**2)\n",
    "\n",
    "        \n",
    "        if t == 1:\n",
    "            # If it is the 1st iteration, putting the 1st value as max\n",
    "            if not np.isnan(current_between_class_variance):\n",
    "                max_between_class_variance = current_between_class_variance\n",
    "                max_t = t\n",
    "        else:\n",
    "            #except for the 1st iteration, comparing the current_between_variance with the maximamum. \n",
    "            #and updating the max_between_variance\n",
    "            if not np.isnan(current_between_class_variance):\n",
    "                if(max_between_class_variance < current_between_class_variance):\n",
    "                    max_between_class_variance = current_between_class_variance\n",
    "                    max_t = t  \n",
    "\n",
    "    return max_t"
   ]
  },
  {
   "cell_type": "code",
   "execution_count": null,
   "id": "3225cbe6",
   "metadata": {},
   "outputs": [],
   "source": [
    "#Finding and printing the optinal value from Otsu algoritm\n",
    "print(\"The optimal Otsu threshold value:\", otsu(get_image(\"gingerbreads.jpg\")))"
   ]
  },
  {
   "cell_type": "code",
   "execution_count": null,
   "id": "d3b0943f",
   "metadata": {},
   "outputs": [],
   "source": [
    "def threshold(image, th = None):\n",
    "    \"\"\"Returns a binarised version of given image, thresholded at given value.\n",
    "\n",
    "    Binarises the image using a global threshold `th`. Uses Otsu's method\n",
    "    to find optimal thrshold value if the threshold variable is None. The\n",
    "    returned image will be in the form of an 8-bit unsigned integer array\n",
    "    with 255 as white and 0 as black.\n",
    "\n",
    "    Parameters:\n",
    "    -----------\n",
    "    image : np.ndarray\n",
    "        Image to binarise. If this image is a colour image then the last\n",
    "        dimension will be the colour value (as RGB values).\n",
    "    th : numeric\n",
    "        Threshold value. Uses Otsu's method if this variable is None.\n",
    "\n",
    "    Returns:\n",
    "    --------\n",
    "    binarised : np.ndarray(dtype=np.uint8)\n",
    "        Image where all pixel values are either 0 or 255.\n",
    "    \"\"\"\n",
    "    # Setup\n",
    "    shape = np.shape(image)\n",
    "    binarised = np.zeros([shape[0], shape[1]], dtype=np.uint8)\n",
    "\n",
    "    if len(shape) == 3:# checking for 3 channels or RGB/color image\n",
    "        image = image.mean(axis=2)\n",
    "\n",
    "    elif len(shape) > 3:\n",
    "        raise ValueError('Must be at 2D image')\n",
    "\n",
    "    if th is None:\n",
    "        th = otsu(image) #Obtaining the optimal threshold value\n",
    "     \n",
    "    #binarising the image\n",
    "    for i in range(shape[0]):\n",
    "        for j in range(shape[1]):\n",
    "            if int(image[i,j] >= th):\n",
    "                binarised[i, j] = 255\n",
    "    \n",
    "    return binarised"
   ]
  },
  {
   "cell_type": "code",
   "execution_count": null,
   "id": "baec7368",
   "metadata": {},
   "outputs": [],
   "source": [
    "#Binarising the image with otsu threshold value\n",
    "binary_image_ans = threshold(get_image(\"gingerbreads.jpg\"))"
   ]
  },
  {
   "cell_type": "code",
   "execution_count": null,
   "id": "f69b00aa",
   "metadata": {},
   "outputs": [],
   "source": [
    "#Checking the histogram of binarised image\n",
    "show_histogram(histogram(binary_image_ans), \"Binary image histogram with 256 bins\")"
   ]
  },
  {
   "cell_type": "code",
   "execution_count": null,
   "id": "116db8fd",
   "metadata": {},
   "outputs": [],
   "source": [
    "#Plotting the image after binarisation\n",
    "show_image(binary_image_ans, \"Binary Otsu threshold image\")"
   ]
  },
  {
   "cell_type": "code",
   "execution_count": null,
   "id": "73f251f1",
   "metadata": {},
   "outputs": [],
   "source": []
  },
  {
   "cell_type": "code",
   "execution_count": null,
   "id": "447579b8",
   "metadata": {},
   "outputs": [],
   "source": []
  },
  {
   "cell_type": "code",
   "execution_count": null,
   "id": "15ccc59e",
   "metadata": {},
   "outputs": [],
   "source": []
  }
 ],
 "metadata": {
  "kernelspec": {
   "display_name": "Python 3 (ipykernel)",
   "language": "python",
   "name": "python3"
  },
  "language_info": {
   "codemirror_mode": {
    "name": "ipython",
    "version": 3
   },
   "file_extension": ".py",
   "mimetype": "text/x-python",
   "name": "python",
   "nbconvert_exporter": "python",
   "pygments_lexer": "ipython3",
   "version": "3.9.12"
  }
 },
 "nbformat": 4,
 "nbformat_minor": 5
}
