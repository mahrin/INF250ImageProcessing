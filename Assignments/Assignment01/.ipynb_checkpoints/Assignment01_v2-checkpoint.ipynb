{
 "cells": [
  {
   "cell_type": "code",
   "execution_count": null,
   "id": "aa7e8e5a",
   "metadata": {},
   "outputs": [],
   "source": []
  },
  {
   "cell_type": "markdown",
   "id": "4f60e3cc",
   "metadata": {},
   "source": [
    "## Question, Deadline-October 7 11.59pm\n",
    "In this exercise you will write a python-program that reads the image gingerbread.jpg and that makes a threshold using the  Otsu algorithm (Links to an external site.). https://en.wikipedia.org/wiki/Otsu%27s_method\n",
    "\n",
    "You will use this skeleton program in Python. It consists of one function making a histogram, one that carries out the Otsu thresholding and one function that uses this to make a binary image. \n",
    "\n",
    " \n",
    "\n",
    "Hand in the python code and the results when applied on the image on Canvas\n",
    "\n",
    "Otsu thresholding: http://www.labbookpages.co.uk/software/imgProc/otsuThreshold.html"
   ]
  },
  {
   "cell_type": "code",
   "execution_count": 1,
   "id": "f33a6e24",
   "metadata": {},
   "outputs": [],
   "source": [
    "# -*- coding: utf-8 -*-\n",
    "\n",
    "\"\"\"\n",
    "Skeleton for first part of the blob-detection coursework as part of INF250\n",
    "at NMBU (Autumn 2017).\n",
    "\"\"\"\n",
    "\n",
    "__author__ = \"Mahrin Tasfe\"\n",
    "__email__ = \"mahrin.tasfe@nmbu.no\"\n",
    "\n",
    "import numpy as np\n",
    "from skimage import io\n",
    "import matplotlib.pyplot as plt\n",
    "# import skimage.color\n"
   ]
  },
  {
   "cell_type": "code",
   "execution_count": null,
   "id": "24156208",
   "metadata": {},
   "outputs": [],
   "source": [
    "\n",
    "# def threshold(image, th=None):\n",
    "#     \"\"\"Returns a binarised version of given image, thresholded at given value.\n",
    "\n",
    "#     Binarises the image using a global threshold `th`. Uses Otsu's method\n",
    "#     to find optimal thrshold value if the threshold variable is None. The\n",
    "#     returned image will be in the form of an 8-bit unsigned integer array\n",
    "#     with 255 as white and 0 as black.\n",
    "\n",
    "#     Parameters:\n",
    "#     -----------\n",
    "#     image : np.ndarray\n",
    "#         Image to binarise. If this image is a colour image then the last\n",
    "#         dimension will be the colour value (as RGB values).\n",
    "#     th : numeric\n",
    "#         Threshold value. Uses Otsu's method if this variable is None.\n",
    "\n",
    "#     Returns:\n",
    "#     --------\n",
    "#     binarised : np.ndarray(dtype=np.uint8)\n",
    "#         Image where all pixel values are either 0 or 255.\n",
    "#     \"\"\"\n",
    "#     # Setup\n",
    "#     shape = np.shape(image)\n",
    "#     binarised = np.zeros([shape[0], shape[1]], dtype=np.uint8)\n",
    "\n",
    "#     if len(shape) == 3:\n",
    "#         image = image.mean(axis=2)\n",
    "#     elif len(shape) > 3:\n",
    "#         raise ValueError('Must be at 2D image')\n",
    "\n",
    "#     if th is None:\n",
    "#         th = otsu_thval(image)\n",
    "\n",
    "#     # Start thresholding\n",
    "#     ## WRITE YOUR CODE HERE\n",
    "\n",
    "\n",
    "#     return binarised\n",
    "\n",
    "\n",
    "# def histogram(image):\n",
    "#     \"\"\"Returns the image histogram with 256 bins.\n",
    "#     \"\"\"\n",
    "#     # Setup\n",
    "#     shape = np.shape(image)\n",
    "#     histogram = np.zeros(256)\n",
    "\n",
    "#     if len(shape) == 3:\n",
    "#         image = image.mean(axis=2)\n",
    "#     elif len(shape) > 3:\n",
    "#         raise ValueError('Must be at 2D image')\n",
    "\n",
    "#     # Start to make the histogram\n",
    "#     ## WRITE YOUR CODE HERE\n",
    "\n",
    "#     return histogram\n",
    "\n",
    "\n",
    "# def otsu(image):\n",
    "#     \"\"\"Finds the optimal thresholdvalue of given image using Otsu's method.\n",
    "#     \"\"\"\n",
    "#     hist = histogram(image)\n",
    "#     th = 0\n",
    "\n",
    "#     ## WRITE YOUR CODE HERE\n",
    "\n",
    "#     return th\n",
    "\n",
    "\n"
   ]
  },
  {
   "cell_type": "code",
   "execution_count": 2,
   "id": "c0ea739e",
   "metadata": {},
   "outputs": [],
   "source": [
    "def get_image(name):\n",
    "    #Getting the image  \n",
    "    filename = '../Images/'+name\n",
    "    image = io.imread(filename)\n",
    "\n",
    "#     plt.title(label = \"image:\", fontsize=12)\n",
    "#     plt.imshow(image, cmap='gray')    \n",
    "    \n",
    "    return image"
   ]
  },
  {
   "cell_type": "code",
   "execution_count": 3,
   "id": "200ff9f5",
   "metadata": {},
   "outputs": [],
   "source": [
    "image = get_image(\"gingerbreads.jpg\")"
   ]
  },
  {
   "cell_type": "code",
   "execution_count": null,
   "id": "4bd48c07",
   "metadata": {},
   "outputs": [],
   "source": [
    "print(image)"
   ]
  },
  {
   "cell_type": "code",
   "execution_count": null,
   "id": "59223b11",
   "metadata": {},
   "outputs": [],
   "source": []
  },
  {
   "cell_type": "code",
   "execution_count": 4,
   "id": "908615e7",
   "metadata": {},
   "outputs": [],
   "source": [
    "def histogram(image):\n",
    "    \"\"\"Returns the image histogram with 256 bins.\n",
    "    \"\"\"\n",
    "    # Setup\n",
    "    shape = np.shape(image)\n",
    "    histogram = np.zeros(256)\n",
    "\n",
    "    if len(shape) == 3:\n",
    "        image = image.mean(axis=2)\n",
    "    elif len(shape) > 3:\n",
    "        raise ValueError('Must be at 2D image')\n",
    "\n",
    "    # Start to make the histogram\n",
    "    ## WRITE YOUR CODE HERE\n",
    "#     histogram = np.zeros(256)\n",
    "    shape = np.shape(image)\n",
    "    for i in range(shape[0]):\n",
    "        for j in range(shape[1]):\n",
    "            pixval = int(image[i,j])\n",
    "            histogram[pixval] += 1\n",
    "    plt.figure()       \n",
    "    plt.title(label=\"histogram of image with 256 bins\", fontsize=12)\n",
    "    plt.plot(histogram)\n",
    "\n",
    "    return histogram"
   ]
  },
  {
   "cell_type": "code",
   "execution_count": 5,
   "id": "e63d9ad1",
   "metadata": {},
   "outputs": [
    {
     "name": "stdout",
     "output_type": "stream",
     "text": [
      "Type: <class 'numpy.ndarray'>\n",
      "histogram_ans [0.00000e+00 1.00000e+00 2.00000e+00 0.00000e+00 3.00000e+00 0.00000e+00\n",
      " 0.00000e+00 3.00000e+00 1.20000e+01 4.50000e+01 7.40000e+01 1.06000e+02\n",
      " 1.02000e+02 1.39000e+02 1.65000e+02 1.75000e+02 2.08000e+02 2.90000e+02\n",
      " 3.00000e+02 4.38000e+02 4.16000e+02 5.81000e+02 7.38000e+02 9.03000e+02\n",
      " 1.16100e+03 1.30400e+03 1.77500e+03 2.06700e+03 2.54700e+03 3.27900e+03\n",
      " 3.61900e+03 4.92200e+03 6.00900e+03 7.62800e+03 1.01900e+04 1.11320e+04\n",
      " 1.54010e+04 1.68540e+04 2.01310e+04 2.42300e+04 2.80410e+04 3.34710e+04\n",
      " 3.59680e+04 4.13560e+04 4.59990e+04 5.02780e+04 5.53750e+04 6.01870e+04\n",
      " 6.47660e+04 7.00160e+04 7.43560e+04 7.85860e+04 8.27900e+04 8.57840e+04\n",
      " 8.87030e+04 9.02920e+04 9.25230e+04 9.39740e+04 9.36840e+04 9.40640e+04\n",
      " 9.34280e+04 9.30160e+04 9.17890e+04 9.05620e+04 8.91920e+04 8.77640e+04\n",
      " 8.66720e+04 8.48470e+04 8.35520e+04 8.14280e+04 7.95310e+04 7.76450e+04\n",
      " 7.55790e+04 7.35920e+04 7.11210e+04 6.94260e+04 6.74060e+04 6.59840e+04\n",
      " 6.42750e+04 6.24810e+04 6.17260e+04 6.04430e+04 5.92180e+04 5.77240e+04\n",
      " 5.71380e+04 5.53810e+04 5.52470e+04 5.33610e+04 5.21010e+04 5.11080e+04\n",
      " 4.94400e+04 4.82080e+04 4.63650e+04 4.48810e+04 4.35720e+04 4.21060e+04\n",
      " 4.02760e+04 3.89410e+04 3.78010e+04 3.63160e+04 3.53780e+04 3.40100e+04\n",
      " 3.31270e+04 3.23610e+04 3.14220e+04 3.09880e+04 3.00000e+04 2.92300e+04\n",
      " 2.86850e+04 2.78980e+04 2.76440e+04 2.69390e+04 2.63660e+04 2.57100e+04\n",
      " 2.51790e+04 2.46300e+04 2.38040e+04 2.28670e+04 2.26900e+04 2.14910e+04\n",
      " 2.08310e+04 1.99430e+04 1.88180e+04 1.81410e+04 1.73150e+04 1.60520e+04\n",
      " 1.55110e+04 1.46730e+04 1.37810e+04 1.29530e+04 1.19220e+04 1.12660e+04\n",
      " 1.07600e+04 9.84300e+03 9.31400e+03 8.85000e+03 8.19500e+03 7.83000e+03\n",
      " 7.52400e+03 7.12900e+03 7.00500e+03 6.75700e+03 6.87400e+03 6.79000e+03\n",
      " 6.87100e+03 7.17800e+03 7.19900e+03 7.75200e+03 7.96800e+03 8.68900e+03\n",
      " 9.15500e+03 1.00830e+04 1.07460e+04 1.15390e+04 1.26020e+04 1.38170e+04\n",
      " 1.51410e+04 1.66520e+04 1.78110e+04 1.96060e+04 2.09080e+04 2.28350e+04\n",
      " 2.45480e+04 2.63590e+04 2.82950e+04 3.01530e+04 3.24750e+04 3.38660e+04\n",
      " 3.64130e+04 3.81850e+04 4.05280e+04 4.29710e+04 4.56240e+04 4.80090e+04\n",
      " 5.03880e+04 5.35490e+04 5.64620e+04 5.92590e+04 6.18090e+04 6.55050e+04\n",
      " 6.82430e+04 7.03370e+04 7.40060e+04 7.65970e+04 7.91330e+04 8.28310e+04\n",
      " 8.57850e+04 8.90440e+04 9.36360e+04 9.79700e+04 1.02834e+05 1.07534e+05\n",
      " 1.12687e+05 1.17425e+05 1.22491e+05 1.28218e+05 1.33496e+05 1.37971e+05\n",
      " 1.42215e+05 1.46116e+05 1.49350e+05 1.52120e+05 1.53799e+05 1.54727e+05\n",
      " 1.55748e+05 1.56335e+05 1.56725e+05 1.55518e+05 1.53001e+05 1.50824e+05\n",
      " 1.47649e+05 1.45201e+05 1.41358e+05 1.38596e+05 1.35940e+05 1.32442e+05\n",
      " 1.29523e+05 1.25221e+05 1.21534e+05 1.16322e+05 1.10927e+05 1.05547e+05\n",
      " 1.00457e+05 9.50350e+04 8.96790e+04 8.38970e+04 7.69720e+04 7.07280e+04\n",
      " 6.51130e+04 5.94910e+04 5.43920e+04 4.87830e+04 4.41370e+04 3.98230e+04\n",
      " 3.55180e+04 3.19470e+04 2.84230e+04 2.53710e+04 2.21630e+04 1.97930e+04\n",
      " 1.72610e+04 1.52190e+04 1.34430e+04 1.18040e+04 1.01050e+04 8.74400e+03\n",
      " 7.51400e+03 6.54400e+03 5.70700e+03 4.76300e+03 4.15800e+03 3.31700e+03\n",
      " 3.19700e+03 2.70200e+03 2.00300e+03 3.37000e+02]\n"
     ]
    },
    {
     "data": {
      "image/png": "[encoded data removed]",
      "text/plain": [
       "<Figure size 432x288 with 1 Axes>"
      ]
     },
     "metadata": {
      "needs_background": "light"
     },
     "output_type": "display_data"
    }
   ],
   "source": [
    "histogram_ans = histogram(image)\n",
    "print(\"Type:\", type(histogram_ans))\n",
    "print(\"histogram_ans\", histogram_ans)\n"
   ]
  },
  {
   "cell_type": "code",
   "execution_count": 6,
   "id": "a960f7c4",
   "metadata": {},
   "outputs": [
    {
     "data": {
      "text/plain": [
       "12192768.0"
      ]
     },
     "execution_count": 6,
     "metadata": {},
     "output_type": "execute_result"
    }
   ],
   "source": [
    "sum(histogram_ans)"
   ]
  },
  {
   "cell_type": "code",
   "execution_count": 8,
   "id": "125bab58",
   "metadata": {},
   "outputs": [
    {
     "data": {
      "text/plain": [
       "8.201583102376753e-08"
      ]
     },
     "execution_count": 8,
     "metadata": {},
     "output_type": "execute_result"
    }
   ],
   "source": [
    "histogram_ans[1]/ sum(histogram_ans) "
   ]
  },
  {
   "cell_type": "code",
   "execution_count": null,
   "id": "3a744546",
   "metadata": {},
   "outputs": [],
   "source": []
  },
  {
   "cell_type": "code",
   "execution_count": 21,
   "id": "2ecb2ff2",
   "metadata": {},
   "outputs": [],
   "source": [
    "# def otsu(image):\n",
    "#     #https://learnopencv.com/otsu-thresholding-with-opencv/\n",
    "#     \"\"\"Finds the optimal thresholdvalue of given image using Otsu's method.\n",
    "#     \"\"\"\n",
    "#     hist, bin_edges = np.histogram(image)\n",
    "#     #hist = histogram(image)\n",
    "#     th = 0\n",
    "\n",
    "#     ## WRITE YOUR CODE HERE\n",
    "#     # Calculate centers of bins\n",
    " \n",
    "#     bin_mids = (bin_edges[:-1] + bin_edges[1:]) / 2.\n",
    "\n",
    "#     # Iterate over all thresholds (indices) and get the probabilities w1(t), w2(t)\n",
    "#     weight1 = np.cumsum(hist)\n",
    "#     weight2 = np.cumsum(hist[::-1])[::-1]\n",
    "\n",
    "\n",
    "\n",
    "#     # Get the class means mu0(t)\n",
    "#     mean1 = np.cumsum(hist * bin_mids) / weight1\n",
    "#     # Get the class means mu1(t)\n",
    "#     mean2 = (np.cumsum((hist * bin_mids)[::-1]) / weight2[::-1])[::-1]\n",
    "\n",
    "#     inter_class_variance = weight1[:-1] * weight2[1:] * (mean1[:-1] - mean2[1:]) ** 2\n",
    "\n",
    "    \n",
    "#     # Maximize the inter_class_variance function val\n",
    "#     index_of_max_val = np.argmax(inter_class_variance)\n",
    "#     threshold = bin_mids[:-1][index_of_max_val]\n",
    "#     print(\"Otsu's algorithm implementation thresholding result: \", threshold)\n",
    "\n",
    "\n",
    "#     return threshold\n",
    "# otsu(image)"
   ]
  },
  {
   "cell_type": "code",
   "execution_count": 39,
   "id": "b64a9b14",
   "metadata": {},
   "outputs": [],
   "source": [
    "def otsu(image):\n",
    "    \"\"\"Finds the optimal thresholdvalue of given image using Otsu's method.\n",
    "    \"\"\"\n",
    "    hist = histogram(image)\n",
    "    th = 0\n",
    "\n",
    "    ## WRITE YOUR CODE HERE\n",
    "    max_t = 0\n",
    "    denominator = sum(hist)\n",
    "    max_between_class_variance = 0\n",
    "    for t in range(256):\n",
    "        print(\"for the value of t \", t)\n",
    "        w_b_top = sum(hist[0:t+1])\n",
    "        w_b = w_b_top/denominator\n",
    "        print(\"w_b \", w_b )\n",
    "        \n",
    "        u_b_top = 0\n",
    "        u_b_bottom = 0\n",
    "        for i in range(0, t+1):\n",
    "            u_b_top += i*hist[i]\n",
    "            u_b_bottom+= hist[i]\n",
    "        u_b = u_b_top/u_b_bottom\n",
    "        print(\"u_b\", u_b)   \n",
    "            \n",
    "        w_f_top = sum(hist[t:256])\n",
    "        w_f = w_f_top/denominator            \n",
    "        print(\"w_f\", w_f)\n",
    "        \n",
    "        u_f_top = 0\n",
    "        u_f_bottom = 0\n",
    "        for i in range(t, 256):\n",
    "            u_f_top += i*hist[i]\n",
    "            u_f_bottom+= hist[i]\n",
    "        u_f = u_f_top/u_f_bottom\n",
    "        print(\"u_f\", u_f)\n",
    "        \n",
    "        between_class_variance = w_b*w_f*((u_b - u_f)**2)\n",
    "        print(\"between_class_variance\", between_class_variance)\n",
    "        \n",
    "        if t == 0:\n",
    "            if not np.isnan(between_class_variance):\n",
    "                max_between_class_variance = between_class_variance\n",
    "                max_t = t\n",
    "        else:\n",
    "            if not np.isnan(between_class_variance):\n",
    "                if(max_between_class_variance < between_class_variance):\n",
    "                    max_between_class_variance = between_class_variance\n",
    "                    max_t = t  \n",
    "                    print(\"T=\", t, \"updating max_between New value\", max_between_class_variance)\n",
    "            \n",
    "        print(\"==============================================\")\n",
    "\n",
    "    return t"
   ]
  },
  {
   "cell_type": "code",
   "execution_count": 40,
   "id": "30b40842",
   "metadata": {},
   "outputs": [
    {
     "name": "stdout",
     "output_type": "stream",
     "text": [
      "for the value of t  0\n",
      "w_b  0.0\n",
      "u_b nan\n",
      "w_f 1.0\n",
      "u_f 150.5574789088089\n",
      "between_class_variance nan\n"
     ]
    },
    {
     "name": "stderr",
     "output_type": "stream",
     "text": [
      "C:\\Users\\ASUS\\AppData\\Local\\Temp\\ipykernel_12672\\596107913.py:22: RuntimeWarning: invalid value encountered in double_scalars\n",
      "  u_b = u_b_top/u_b_bottom\n"
     ]
    },
    {
     "ename": "NameError",
     "evalue": "name 'isNaN' is not defined",
     "output_type": "error",
     "traceback": [
      "\u001b[1;31m---------------------------------------------------------------------------\u001b[0m",
      "\u001b[1;31mNameError\u001b[0m                                 Traceback (most recent call last)",
      "Input \u001b[1;32mIn [40]\u001b[0m, in \u001b[0;36m<cell line: 1>\u001b[1;34m()\u001b[0m\n\u001b[1;32m----> 1\u001b[0m \u001b[38;5;28mprint\u001b[39m(\u001b[43motsu\u001b[49m\u001b[43m(\u001b[49m\u001b[43mget_image\u001b[49m\u001b[43m(\u001b[49m\u001b[38;5;124;43m\"\u001b[39;49m\u001b[38;5;124;43mgingerbreads.jpg\u001b[39;49m\u001b[38;5;124;43m\"\u001b[39;49m\u001b[43m)\u001b[49m\u001b[43m)\u001b[49m)\n",
      "Input \u001b[1;32mIn [39]\u001b[0m, in \u001b[0;36motsu\u001b[1;34m(image)\u001b[0m\n\u001b[0;32m     38\u001b[0m \u001b[38;5;28mprint\u001b[39m(\u001b[38;5;124m\"\u001b[39m\u001b[38;5;124mbetween_class_variance\u001b[39m\u001b[38;5;124m\"\u001b[39m, between_class_variance)\n\u001b[0;32m     40\u001b[0m \u001b[38;5;28;01mif\u001b[39;00m t \u001b[38;5;241m==\u001b[39m \u001b[38;5;241m0\u001b[39m:\n\u001b[1;32m---> 41\u001b[0m     \u001b[38;5;28;01mif\u001b[39;00m \u001b[38;5;129;01mnot\u001b[39;00m \u001b[43misNaN\u001b[49m(between_class_variance):\n\u001b[0;32m     42\u001b[0m         max_between_class_variance \u001b[38;5;241m=\u001b[39m between_class_variance\n\u001b[0;32m     43\u001b[0m         max_t \u001b[38;5;241m=\u001b[39m t\n",
      "\u001b[1;31mNameError\u001b[0m: name 'isNaN' is not defined"
     ]
    },
    {
     "data": {
      "image/png": "[encoded data removed]",
      "text/plain": [
       "<Figure size 432x288 with 1 Axes>"
      ]
     },
     "metadata": {
      "needs_background": "light"
     },
     "output_type": "display_data"
    }
   ],
   "source": [
    "print(otsu(get_image(\"gingerbreads.jpg\")))"
   ]
  },
  {
   "cell_type": "code",
   "execution_count": 25,
   "id": "d41c5e56",
   "metadata": {},
   "outputs": [
    {
     "name": "stdout",
     "output_type": "stream",
     "text": [
      "[0. 1.]\n"
     ]
    }
   ],
   "source": [
    "print(histogram_ans[0:2])"
   ]
  },
  {
   "cell_type": "code",
   "execution_count": null,
   "id": "5806e927",
   "metadata": {},
   "outputs": [],
   "source": [
    "def otsu(image):\n",
    "    #https://learnopencv.com/otsu-thresholding-with-opencv/\n",
    "    \"\"\"Finds the optimal thresholdvalue of given image using Otsu's method.\n",
    "    \"\"\"\n",
    "    hist, bin_edges = np.histogram(image)\n",
    "    #hist = histogram(image)\n",
    "    th = 0\n",
    "\n",
    "    ## WRITE YOUR CODE HERE\n",
    "    # Calculate centers of bins\n",
    " \n",
    "    bin_mids = (bin_edges[:-1] + bin_edges[1:]) / 2.\n",
    "\n",
    "    # Iterate over all thresholds (indices) and get the probabilities w1(t), w2(t)\n",
    "    weight1 = np.cumsum(hist)\n",
    "    weight2 = np.cumsum(hist[::-1])[::-1]\n",
    "\n",
    "\n",
    "\n",
    "    # Get the class means mu0(t)\n",
    "    mean1 = np.cumsum(hist * bin_mids) / weight1\n",
    "    # Get the class means mu1(t)\n",
    "    mean2 = (np.cumsum((hist * bin_mids)[::-1]) / weight2[::-1])[::-1]\n",
    "\n",
    "    inter_class_variance = weight1[:-1] * weight2[1:] * (mean1[:-1] - mean2[1:]) ** 2\n",
    "\n",
    "    \n",
    "    # Maximize the inter_class_variance function val\n",
    "    index_of_max_val = np.argmax(inter_class_variance)\n",
    "    threshold = bin_mids[:-1][index_of_max_val]\n",
    "    print(\"Otsu's algorithm implementation thresholding result: \", threshold)\n",
    "\n",
    "\n",
    "#     return threshold"
   ]
  },
  {
   "cell_type": "code",
   "execution_count": null,
   "id": "a49ce856",
   "metadata": {},
   "outputs": [],
   "source": []
  },
  {
   "cell_type": "code",
   "execution_count": null,
   "id": "688fe02d",
   "metadata": {},
   "outputs": [],
   "source": []
  },
  {
   "cell_type": "code",
   "execution_count": null,
   "id": "75e835e8",
   "metadata": {},
   "outputs": [],
   "source": []
  },
  {
   "cell_type": "code",
   "execution_count": null,
   "id": "40d38325",
   "metadata": {},
   "outputs": [],
   "source": []
  },
  {
   "cell_type": "code",
   "execution_count": null,
   "id": "7afc55eb",
   "metadata": {},
   "outputs": [],
   "source": []
  },
  {
   "cell_type": "code",
   "execution_count": null,
   "id": "20b5716e",
   "metadata": {},
   "outputs": [],
   "source": []
  },
  {
   "cell_type": "code",
   "execution_count": 19,
   "id": "d3b0943f",
   "metadata": {},
   "outputs": [],
   "source": [
    "#https://datacarpentry.org/image-processing/07-thresholding/\n",
    "def threshold(image, th=None):\n",
    "    \"\"\"Returns a binarised version of given image, thresholded at given value.\n",
    "\n",
    "    Binarises the image using a global threshold `th`. Uses Otsu's method\n",
    "    to find optimal thrshold value if the threshold variable is None. The\n",
    "    returned image will be in the form of an 8-bit unsigned integer array\n",
    "    with 255 as white and 0 as black.\n",
    "\n",
    "    Parameters:\n",
    "    -----------\n",
    "    image : np.ndarray\n",
    "        Image to binarise. If this image is a colour image then the last\n",
    "        dimension will be the colour value (as RGB values).\n",
    "    th : numeric\n",
    "        Threshold value. Uses Otsu's method if this variable is None.\n",
    "\n",
    "    Returns:\n",
    "    --------\n",
    "    binarised : np.ndarray(dtype=np.uint8)\n",
    "        Image where all pixel values are either 0 or 255.\n",
    "    \"\"\"\n",
    "    # Setup\n",
    "    shape = np.shape(image)\n",
    "    binarised = np.zeros([shape[0], shape[1]], dtype=np.uint8)\n",
    "\n",
    "    if len(shape) == 3:\n",
    "        image = image.mean(axis=2)\n",
    "    elif len(shape) > 3:\n",
    "        raise ValueError('Must be at 2D image')\n",
    "\n",
    "    if th is None:\n",
    "        th = otsu(image)\n",
    "       \n",
    "    print(\"Th\", th)\n",
    "    # Start thresholding\n",
    "    ## WRITE YOUR CODE HERE\n",
    "    #binarising the image\n",
    "    image[image > th] = 255\n",
    "    image[image != 255] = 0\n",
    "    binarised = image\n",
    "    plt.imshow(image, cmap=plt.cm.gray)\n",
    "    plt.title(label = \"Binary Otsu threshold image\", fontsize=12)\n",
    "\n",
    "\n",
    "    return binarised"
   ]
  },
  {
   "cell_type": "code",
   "execution_count": 20,
   "id": "baec7368",
   "metadata": {},
   "outputs": [
    {
     "name": "stdout",
     "output_type": "stream",
     "text": [
      "Otsu's algorithm implementation thresholding result:  115.48333333333335\n",
      "Th 115.48333333333335\n"
     ]
    },
    {
     "data": {
      "image/png": "[encoded data removed]",
      "text/plain": [
       "<Figure size 432x288 with 1 Axes>"
      ]
     },
     "metadata": {
      "needs_background": "light"
     },
     "output_type": "display_data"
    }
   ],
   "source": [
    "binary_image_ans = threshold(get_image(\"gingerbreads.jpg\"))\n"
   ]
  },
  {
   "cell_type": "code",
   "execution_count": null,
   "id": "743911b4",
   "metadata": {},
   "outputs": [],
   "source": []
  }
 ],
 "metadata": {
  "kernelspec": {
   "display_name": "Python 3 (ipykernel)",
   "language": "python",
   "name": "python3"
  },
  "language_info": {
   "codemirror_mode": {
    "name": "ipython",
    "version": 3
   },
   "file_extension": ".py",
   "mimetype": "text/x-python",
   "name": "python",
   "nbconvert_exporter": "python",
   "pygments_lexer": "ipython3",
   "version": "3.9.12"
  }
 },
 "nbformat": 4,
 "nbformat_minor": 5
}
