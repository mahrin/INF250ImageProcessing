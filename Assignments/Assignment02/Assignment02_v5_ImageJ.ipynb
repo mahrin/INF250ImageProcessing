{
 "cells": [
  {
   "cell_type": "markdown",
   "id": "502246ba",
   "metadata": {},
   "source": [
    "# INF250: Mandatory Exercise02\n",
    "\n",
    "- Author: Mahrin Tasfe\n",
    "- Email: mahrin.tasfe@nmbu.no\n",
    "--------------------------------------------------------------------------------------------\n",
    "--------------------------------------------------------------------------------------------\n",
    "\n",
    "## Solution starts here\n",
    "--------------------------------------------------------------------------------------------"
   ]
  },
  {
   "cell_type": "markdown",
   "id": "3ee6b988",
   "metadata": {},
   "source": [
    "### Step01: cropping the extra part of the image\n",
    "Select necessary part of the image → Goto Image in imageJ → Select crop \n",
    "<center><img src=\"01_cropped.PNG\" width=\"45%\"></center>  \n",
    "<center>Figure-01: Cropped image</center>"
   ]
  },
  {
   "cell_type": "markdown",
   "id": "20d1691f",
   "metadata": {},
   "source": [
    "### Step02: Converting the image to a 8-bit image\n",
    "Goto Image in imageJ → Type → 8-bit\n",
    "\n",
    "<center>  <img src=\"02_cropped_8_bit.PNG\" width=\"45%\"> </center>\n",
    "<center>Figure-02: 8-bit image</center>"
   ]
  },
  {
   "cell_type": "markdown",
   "id": "6243f67a",
   "metadata": {},
   "source": [
    "### Step03: Trying out all binarising methods\n",
    "Goto image → Adjust →  Auto Threshold → try all\n",
    "\n",
    "<center><img src=\"03_tryig_all_threshold.PNG\" width=\"85%\"></center>\n",
    "<center>Figure-03: Trying all thresholding methods </center>"
   ]
  },
  {
   "cell_type": "markdown",
   "id": "8db1cd57",
   "metadata": {},
   "source": [
    "### Step04: Choosing the best threshold method for binarising the image:\n",
    "From the figure-4, we can see that **Triangle** does the best job at binarising with minium holes. For this reason, I have chosen triangle threshold method.\n",
    "\n",
    "Goto image → Adjust →  Auto Threshold → Triangle\n",
    "\n",
    "<center><img src=\"04_triangle.PNG\" width=\"45%\"></center>\n",
    "<center>Figure-04: Binarising with Triangle thresholding </center>"
   ]
  },
  {
   "cell_type": "markdown",
   "id": "e6da540c",
   "metadata": {},
   "source": [
    "### Step05: Inverting the binary image\n",
    "Because usually we want the objects to be white and the background to be black.\n",
    "\n",
    "Goto Edit → Invert\n",
    "\n",
    "<center><img src=\"05_triangle_invert.PNG\" width=\"45%\"></center></br>\n",
    "<center>Figure-05: Inverted Binary image </center>"
   ]
  },
  {
   "cell_type": "markdown",
   "id": "d7a279fd",
   "metadata": {},
   "source": [
    "### Step06: Filling the holes after binarisation of image\n",
    "Goto Process → Binary →  Fill holes\n",
    "<center><img src=\"06_triangle_invert_filled.PNG\" width=\"45%\"></center> \n",
    "<center>Figure-06: Filling the holes after binarisation </center>"
   ]
  },
  {
   "cell_type": "markdown",
   "id": "8527f06d",
   "metadata": {},
   "source": [
    "### Step07: For analyzing setting the objects descriptors\n",
    "Goto Analyze → Set Measurements  →  Select the Area, Center of mass, Shape descriptors, Display label → Change the decimal places from 2 to 5.</br>\n",
    "Since it is a binary image the max value will always be 255 and minimum value will be 0. \n",
    "\n",
    "<center><img src=\"07_set_measurements.PNG\" width=\"25%\" height=\"3%\"></center>\n",
    "<center>Figure-07: Set measurements</center>"
   ]
  },
  {
   "cell_type": "markdown",
   "id": "c7600909",
   "metadata": {},
   "source": [
    "### Step08: Identifying all objects present in the image\n",
    "Goto Analyze → Analyze Particles → Ok (without making any changes)</br>\n",
    "\n",
    "<center><img src=\"08_analyze_particle_1.PNG\" width=\"20%\" height=\"2%\"></center>\n",
    "<center>Figure-08:Analyze particles with default setting </center>\n",
    "\n",
    "<center><img src=\"09_analyzed_labeled_prbs1.PNG\" width=\"60%\" height=\"5%\"></center>\n",
    "<center>Figure-09: Object identification & analyze (1) </center>\n",
    "\n",
    "<center><img src=\"10_detected_objects_1.PNG\" width=\"45%\" height=\"5%\"></center>\n",
    "<center>Figure-10: Object identification & analyze (2)</center>\n",
    "\n",
    "From figure-09 and figur-10, we can see that 901 objects have been identified. But visibly, we can see that we do not have that many objects present in the image. So for ignoring the noises present in the image, we need to change the starting size of the particles from 0 to 1000."
   ]
  },
  {
   "cell_type": "markdown",
   "id": "b7baf84f",
   "metadata": {},
   "source": [
    "### Step09: Identifying all objects present in the image ignoring the noises\n",
    "Goto Analyze → Analyze particles → Change starting value of the size from 0 to 1000 → Ok \n",
    "\n",
    "<center><img src=\"11_analyze_particle_2.PNG\" width=\"20%\" height=\"2%\"></center>\n",
    "<center>Figure-11:Analyze particles with custom size setting </center>\n",
    "\n",
    "<center><img src=\"12_detected_objects_2.PNG\" width=\"45%\" height=\"5%\"></center>\n",
    "<center>Figure-12: Object identification & analyze (1) </center>\n",
    "\n",
    "<center><img src=\"13_analyzed_labeled_prbs2.PNG\" width=\"60%\" height=\"10%\"></center>\n",
    "<center>Figure-13: Object identification & analyze (2)</center>\n",
    "\n",
    "From figure-12 and figur-13, we can see that **44 objects** have been identified. But visibly, we can see that few of the objects have beem **merged with each other**. Hence they are considered as a single object. For solving this problem, I have used **Watershed**."
   ]
  },
  {
   "cell_type": "markdown",
   "id": "8224b3d3",
   "metadata": {},
   "source": [
    "### Step10: Separating the merged objects with Watershed \n",
    "Goto Process → Binary →  Watershed \n",
    "\n",
    "<center><img src=\"14_after_watershed.PNG\" width=\"60%\" height=\"5%\"></center>\n",
    "<center>Figure-14:Separating the merged objects with Watershed  </center>"
   ]
  },
  {
   "cell_type": "markdown",
   "id": "de4794fc",
   "metadata": {},
   "source": [
    "### Step11: Analyzing the Watershed seprated objects \n",
    "Goto Analyze → Analyze particles → Change starting value of the size from 0 to 1000 → Ok <br>\n",
    "Save the result file as a CSV.</br>\n",
    "\n",
    "<center><img src=\"11_analyze_particle_2.PNG\" width=\"20%\" height=\"2%\"></center>\n",
    "<center>Figure-15:Analyze particles with custom size setting </center>\n",
    "\n",
    "<center><img src=\"15_detected_objects_3.PNG\" width=\"45%\" height=\"5%\"></center>\n",
    "<center>Figure-16: Object identification & analyze (2) </center>\n",
    "\n",
    "<center><img src=\"16_analyzed_labeled_prbs3.PNG\" width=\"60%\" height=\"5%\"></center>\n",
    "<center>Figure-17: Object identification & analyze (3)</center><br>\n",
    "\n",
    "From figure-16 and figur-17, we can see that 68 objects have been identified which are either M&M or Nonstop.\n",
    "\n"
   ]
  },
  {
   "cell_type": "markdown",
   "id": "84051a16",
   "metadata": {},
   "source": [
    "### Step12: Establishing the logic behind distinguishing Non Stops from M&Ms <span style=\"color:blue\"> (Approach-01)</span>\n",
    "\n",
    "\n",
    "From the website of ImageJ we know, \n",
    "```    \n",
    "Circ. (circularity) = (4π*area)/perimeter^2 \n",
    "```\n",
    "A value of 1.0 indicates a perfect circle. As the value approaches 0.0, it indicates an increasingly elongated shape. Values may not be valid for very small particles. \n",
    "\n",
    "Sources:\n",
    "- https://imagej.nih.gov/ij/docs/menus/analyze.html#set\n",
    "- https://imagej.nih.gov/ij/docs/guide/146-30.html#toc-Subsection-30.7\n",
    "\n",
    "In general, we know the **Non-Stops** are **circular** and **M&M’s** have a more of an **elongated shape**. \n",
    "\n",
    "So, if the circularity is approximately 1 or over 0.855 then that the object is almost circular. So, according to this, those are Non-stops. Otherwise, those are M&Ms.\n",
    "\n",
    "\n",
    "**Condition for distinguishing Non-Stops from M&Ms:**\n",
    "```\n",
    "If circularity >= 0.855:\n",
    "    It is Non-stop \n",
    "Else:\n",
    "    It is M&M\n",
    "```\n"
   ]
  },
  {
   "cell_type": "markdown",
   "id": "49977f2b",
   "metadata": {},
   "source": [
    "### Step13: Identifying Non-Stops\n",
    "- Goto Analyze → Analyze particles → set Size (1000-Infinity) → set Circularity (0.855 - 1.0) → Ok \n",
    "\n",
    "\n",
    "<center><img src=\"17_analyze_particle_3.PNG\" width=\"20%\" height=\"2%\"></center>\n",
    "<center>Figure-18:Analyze particles with custom Size & Circularity settings </center>\n",
    "\n",
    "<center><img src=\"20_non_stop_result.PNG\" width=\"60%\" height=\"5%\"></center>\n",
    "<center>Figure-19: Non-stops identification </center>\n",
    "\n",
    "<center><img src=\"18_non_stop_result_1.PNG\" width=\"45%\" height=\"5%\"></center>\n",
    "<center>Figure-20: Non-stops identification & analyze results(1)</center>\n",
    "\n",
    "<center><img src=\"19_non_stop_result_2.PNG\" width=\"45%\" height=\"5%\"></center>\n",
    "<center>Figure-21: Non-stops identification & analyze results(2)</center>\n",
    "\n",
    "From figure-19, figure-20 and figur-21, we can see that 59 Non-stops have been identified that have a circularity within the range of (0.855 to 1.0)\n",
    "\n"
   ]
  },
  {
   "cell_type": "markdown",
   "id": "bde1cfd5",
   "metadata": {},
   "source": [
    "### Step14: Identifying M&Ms\n",
    "- Goto Analyze → Analyze particles → set Size (1000-Infinity) → set Circularity (0-0.855) → Ok \n",
    "\n",
    "\n",
    "<center><img src=\"23_analyze_particle_4.PNG\" width=\"20%\" height=\"2%\"></center>\n",
    "<center>Figure-22:Analyze particles with custom Size & Circularity settings </center>\n",
    "\n",
    "<center><img src=\"22_M&M_result_2.PNG\" width=\"60%\" height=\"5%\"></center>\n",
    "<center>Figure-23: M&Ms identification </center>\n",
    "\n",
    "<center><img src=\"21_M&M_result_1.PNG\" width=\"45%\" height=\"5%\"></center>\n",
    "<center>Figure-24: M&Ms identification & analyze results</center>\n",
    "\n",
    "\n",
    "\n",
    "From figure-23 and figur-24, we can see that 9 M&Ms have been identified that have a circularity within the range of (0 to 0.855)\n",
    "\n"
   ]
  },
  {
   "cell_type": "markdown",
   "id": "e9b034d0",
   "metadata": {},
   "source": [
    "--------------------------------------------------------------------------------------------\n",
    "--------------------------------------------------------------------------------------------\n",
    "The total number of identified M&Ms & Non-stops sums up to the total number of object identified in the image.\n",
    " \n",
    "= 9(M&Ms)+ 59(Non-stops) = 68(Total object)\n",
    "\n",
    "**Problem associated with the solution of Step-14 (Approach-01):**\n",
    "\n",
    "From the figure-23, we can see that few of the M&M detected chocolates are not M&Ms. Rather they are half-eaten Non-stops. So, the area/half-eaten characteristic has to be considered while determining the chocolates. "
   ]
  },
  {
   "cell_type": "markdown",
   "id": "9b515c24",
   "metadata": {},
   "source": [
    "### Step15: Establishing the logic behind distinguishing Non Stops from M&Ms <span style=\"color:blue\"> (Approach-02)</span>\n",
    "\n",
    "\n",
    "If a chocolate has been eaten its area will be less than a full-sized M&M and Non-stop. From the data, I have identified the area of the smallest full non-stop is 60970 and area of the smallest full M&M is 66448.\n",
    "\n",
    "So, for determining half-eaten chocolates, I have considered the threhold value of 60000. Any chocolate which has a area less then 60000 is considered half-eaten. \n",
    "\n",
    "Non-Stops have cicularity which is close to 1.0. Since it is half eaten, it will have a circularity greater than or equal to 0.5. Any half eaten chocolate with a circularity less than 0.5 will be considered as M&M.\n",
    "\n",
    "\n",
    "\n",
    "**Updated conditions for distinguishing Non-Stops from M&Ms:**\n",
    "```\n",
    "If area >= 60000: #full chocolate\n",
    "    If circularity >= 0.855:\n",
    "        It is Non-stop \n",
    "    Else:\n",
    "        It is M&M\n",
    "Else: #Half-eaten chocolate\n",
    "    If circularity >= 0.5:\n",
    "        It is Non-stop \n",
    "    Else:\n",
    "        It is M&M\n",
    "```\n"
   ]
  },
  {
   "cell_type": "markdown",
   "id": "774c1432",
   "metadata": {},
   "source": [
    "### Step16:  Identifying half-eaten Non-Stops <span style=\"color:blue\"> \n",
    "- Goto Analyze → Analyze particles → set Size (1000-59999) → set size Circularity (0.5-1.0) → Ok \n",
    "\n",
    "\n",
    "<center><img src=\"24_analyze_particle_5_half_Non.PNG\" width=\"20%\" height=\"2%\"></center>\n",
    "<center>Figure-25:Analyze particles with custom Size & Circularity settings </center>\n",
    "\n",
    "<center><img src=\"25_half_Non-STop.PNG\" width=\"60%\" height=\"5%\"></center>\n",
    "<center>Figure-26: half-eaten Non-Stops identification </center>\n",
    "\n",
    "<center><img src=\"26_half_Non-STop_result.PNG\" width=\"45%\" height=\"5%\"></center>\n",
    "<center>Figure-27: half-eaten Non-Stops identification & analyze results</center>\n",
    "\n",
    "\n",
    "\n",
    "From figure-26 and figur-27, we can see that **5 half-eaten Non-Stops** have been identified.\n"
   ]
  },
  {
   "cell_type": "markdown",
   "id": "7278ea30",
   "metadata": {},
   "source": [
    "### Step17:  Identifying half-eaten M&Ms <span style=\"color:blue\"> \n",
    "- Goto Analyze → Analyze particles → set Size (1000-59999) → set size Circularity (0-0.5) → Ok \n",
    "\n",
    "\n",
    "<center><img src=\"27_analyze_particle_6_half_M&M.PNG\" width=\"20%\" height=\"2%\"></center>\n",
    "<center>Figure-28:Analyze particles with custom Size & Circularity settings </center>\n",
    "\n",
    "<center><img src=\"28_half_M&M_result.PNG\" width=\"25%\" height=\"5%\"></center>\n",
    "<center>Figure-29: half-eaten M&Ms identification </center>\n",
    "\n",
    "\n",
    "\n",
    "From figure-28 and figur-29, we can see that **No half-eaten M&Ms** has been identified.\n"
   ]
  },
  {
   "cell_type": "markdown",
   "id": "99766c56",
   "metadata": {},
   "source": [
    "### Step18:  Identifying full-size Non-Stops <span style=\"color:blue\"> \n",
    "- Goto Analyze → Analyze particles → set Size (1000-59999) → set size Circularity (0.5-1.0) → Ok \n",
    "\n",
    "\n",
    "<center><img src=\"29_analyze_particle_6_full_Non_stop.PNG\" width=\"20%\" height=\"2%\"></center>\n",
    "<center>Figure-30:Analyze particles with custom Size & Circularity settings </center>\n",
    "\n",
    "<center><img src=\"31_full_Non-STop_result.PNG\" width=\"60%\" height=\"5%\"></center>\n",
    "<center>Figure-31: full-size Non-Stops identification </center>\n",
    "\n",
    "<center><img src=\"30_full_Non-STop_result.PNG\" width=\"45%\" height=\"5%\"></center>\n",
    "<center>Figure-32: full-size Non-Stops identification & analyze results</center>\n",
    "\n",
    "\n",
    "\n",
    "From figure-31 and figur-32, we can see that **59 full-size Non-Stops** have been identified.\n"
   ]
  },
  {
   "cell_type": "markdown",
   "id": "5d6e9900",
   "metadata": {},
   "source": [
    "### Step19:  Identifying full-size M&Ms <span style=\"color:blue\"> \n",
    "- Goto Analyze → Analyze particles → set Size (1000-59999) → set size Circularity (0-0.5) → Ok \n",
    "\n",
    "\n",
    "<center><img src=\"32_analyze_particle_6_full_MnM.PNG\" width=\"20%\" height=\"2%\"></center>\n",
    "<center>Figure-33:Analyze particles with custom Size & Circularity settings </center>\n",
    "\n",
    "<center><img src=\"33_full_MnM_result.PNG\" width=\"60%\" height=\"5%\"></center>\n",
    "<center>Figure-34: full-size M&Ms identification </center>\n",
    "\n",
    "<center><img src=\"34_full_MnM_result.PNG\" width=\"40%\" height=\"20%\"></center>\n",
    "<center>Figure-35: full-size M&Ms identification & analyze results</center>\n",
    "\n",
    "\n",
    "\n",
    "From figure-28 and figur-29, we can see that **4 full-size M&Ms** has been identified.\n"
   ]
  },
  {
   "cell_type": "markdown",
   "id": "40f654c3",
   "metadata": {},
   "source": [
    "--------------------------------------------------------------------------------------------\n",
    "--------------------------------------------------------------------------------------------\n",
    "The total number of identified M&Ms & Non-stops sums up to the total number of object identified in the image.\n",
    " \n",
    "= 4(full-size M&Ms)+ 59(full-size Non-stops) + 0(half-eaten M&Ms)+ 5(half-eaten Non-stops)= 68(Total object)\n",
    "\n",
    "#### Using the approach-02, I was able to sucessfully identify Non-stops and M&M despite few of the chocolates being half eaten."
   ]
  },
  {
   "cell_type": "code",
   "execution_count": null,
   "id": "8dc8d21e",
   "metadata": {},
   "outputs": [],
   "source": []
  }
 ],
 "metadata": {
  "kernelspec": {
   "display_name": "Python 3 (ipykernel)",
   "language": "python",
   "name": "python3"
  },
  "language_info": {
   "codemirror_mode": {
    "name": "ipython",
    "version": 3
   },
   "file_extension": ".py",
   "mimetype": "text/x-python",
   "name": "python",
   "nbconvert_exporter": "python",
   "pygments_lexer": "ipython3",
   "version": "3.11.5"
  }
 },
 "nbformat": 4,
 "nbformat_minor": 5
}
