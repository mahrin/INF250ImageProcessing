{
 "cells": [
  {
   "cell_type": "markdown",
   "id": "502246ba",
   "metadata": {},
   "source": [
    "# INF250: Mandatory Exercise02\n",
    "\n",
    "- Author: Mahrin Tasfe\n",
    "- Email: mahrin.tasfe@nmbu.no\n",
    "--------------------------------------------------------------------------------------------\n",
    "--------------------------------------------------------------------------------------------\n",
    "\n",
    "## Solution starts here\n",
    "--------------------------------------------------------------------------------------------"
   ]
  },
  {
   "cell_type": "markdown",
   "id": "3ee6b988",
   "metadata": {},
   "source": [
    "### Step01: cropping the extra part of the image\n",
    "Select necessary part of the image → Goto Image in imageJ → Select crop \n",
    "<center><img src=\"01_cropped.PNG\" width=\"45%\"></center>  \n",
    "<center>Figure-01: Cropped image</center>"
   ]
  },
  {
   "cell_type": "markdown",
   "id": "20d1691f",
   "metadata": {},
   "source": [
    "### Step02: Converting the image to a 8-bit image\n",
    "Goto Image in imageJ → Type → 8-bit\n",
    "\n",
    "<center>  <img src=\"02_cropped_8_bit.PNG\" width=\"45%\"> </center>\n",
    "<center>Figure-02: 8-bit image</center>"
   ]
  },
  {
   "cell_type": "markdown",
   "id": "6243f67a",
   "metadata": {},
   "source": [
    "### Step03: Trying out all binarising methods\n",
    "Goto image → Adjust →  Auto Threshold → try all\n",
    "\n",
    "<center><img src=\"03_tryig_all_threshold.PNG\" width=\"85%\"></center>\n",
    "<center>Figure-03: Trying all thresholding methods </center>"
   ]
  },
  {
   "cell_type": "markdown",
   "id": "8db1cd57",
   "metadata": {},
   "source": [
    "### Step04: Choosing the best threshold method for binarising the image:\n",
    "From the figure-4, we can see that **Triangle** does the best job at binarising with minium holes. For this reason, I have chosen triangle threshold method.\n",
    "\n",
    "Goto image → Adjust →  Auto Threshold → Triangle\n",
    "\n",
    "<center><img src=\"04_triangle.PNG\" width=\"45%\"></center>\n",
    "<center>Figure-04: Binarising with Triangle thresholding </center>"
   ]
  },
  {
   "cell_type": "markdown",
   "id": "e6da540c",
   "metadata": {},
   "source": [
    "### Step05: Inverting the binary image\n",
    "Because usually we want the objects to be white and the background to be black.\n",
    "\n",
    "Goto Edit → Invert\n",
    "\n",
    "<center><img src=\"05_triangle_invert.PNG\" width=\"45%\"></center></br>\n",
    "<center>Figure-05: Inverted Binary image </center>"
   ]
  },
  {
   "cell_type": "markdown",
   "id": "d7a279fd",
   "metadata": {},
   "source": [
    "### Step06: Filling the holes after binarisation of image\n",
    "Goto Process → Binary →  Fill holes\n",
    "<center><img src=\"06_triangle_invert_filled.PNG\" width=\"45%\"></center> \n",
    "<center>Figure-06: Filling the holes after binarisation </center>"
   ]
  },
  {
   "cell_type": "markdown",
   "id": "8527f06d",
   "metadata": {},
   "source": [
    "### Step07: For analyzing setting the objects descriptors\n",
    "Goto Analyze → Set Measurements  →  Select the Area, Center of mass, Shape descriptors, Display label → Change the decimal places from 2 to 5.</br>\n",
    "Since it is a binary image the max value will always be 255 and minimum value will be 0. \n",
    "\n",
    "<center><img src=\"07_set_measurements.PNG\" width=\"25%\" height=\"3%\"></center>\n",
    "<center>Figure-07: Set measurements</center>"
   ]
  },
  {
   "cell_type": "markdown",
   "id": "c7600909",
   "metadata": {},
   "source": [
    "### Step08: Identifying all objects present in the image\n",
    "Goto Analyze → Analyze Particles → Ok (without making any changes)</br>\n",
    "\n",
    "<center><img src=\"08_analyze_particle_1.PNG\" width=\"20%\" height=\"2%\"></center>\n",
    "<center>Figure-08:Analyze particles with default setting </center>\n",
    "\n",
    "<center><img src=\"09_analyzed_labeled_prbs1.PNG\" width=\"60%\" height=\"5%\"></center>\n",
    "<center>Figure-09: Object identification & analyze (1) </center>\n",
    "\n",
    "<center><img src=\"10_detected_objects_1.PNG\" width=\"45%\" height=\"5%\"></center>\n",
    "<center>Figure-10: Object identification & analyze (2)</center>\n",
    "\n",
    "From figure-09 and figur-10, we can see that 901 objects have been identified. But visibly, we can see that we do not have that many objects present in the image. So for ignoring the noises present in the image, we need to change the starting size of the particles from 0 to 1000."
   ]
  },
  {
   "cell_type": "markdown",
   "id": "b7baf84f",
   "metadata": {},
   "source": [
    "### Step09: Identifying all objects present in the image ignoring the noises\n",
    "Goto Analyze → Analyze particles → Change starting value of the size from 0 to 1000 → Ok \n",
    "\n",
    "<center><img src=\"11_analyze_particle_2.PNG\" width=\"20%\" height=\"2%\"></center>\n",
    "<center>Figure-11:Analyze particles with custom size setting </center>\n",
    "\n",
    "<center><img src=\"12_detected_objects_2.PNG\" width=\"45%\" height=\"5%\"></center>\n",
    "<center>Figure-12: Object identification & analyze (1) </center>\n",
    "\n",
    "<center><img src=\"13_analyzed_labeled_prbs2.PNG\" width=\"60%\" height=\"10%\"></center>\n",
    "<center>Figure-13: Object identification & analyze (2)</center>\n",
    "\n",
    "From figure-12 and figur-13, we can see that 44 objects have been identified. But visibly, we can see that few of the objects have beem merged with each other. Hence they are considered as a single object. For solving this problem, I have used **Watershed**."
   ]
  },
  {
   "cell_type": "markdown",
   "id": "8224b3d3",
   "metadata": {},
   "source": [
    "### Step10: Separating the merged objects with Watershed \n",
    "Goto Process → Binary →  Watershed \n",
    "\n",
    "<center><img src=\"14_after_watershed.PNG\" width=\"60%\" height=\"5%\"></center>\n",
    "<center>Figure-14:Separating the merged objects with Watershed  </center>"
   ]
  },
  {
   "cell_type": "markdown",
   "id": "de4794fc",
   "metadata": {},
   "source": [
    "### Step11: Analyzing the Watershed seprated objects \n",
    "Goto Analyze → Analyze particles → Change starting value of the size from 0 to 1000 → Ok <br>\n",
    "Save the result file as a CSV.</br>\n",
    "\n",
    "<center><img src=\"11_analyze_particle_2.PNG\" width=\"20%\" height=\"2%\"></center>\n",
    "<center>Figure-15:Analyze particles with custom size setting </center>\n",
    "\n",
    "<center><img src=\"15_detected_objects_3.PNG\" width=\"45%\" height=\"5%\"></center>\n",
    "<center>Figure-16: Object identification & analyze (2) </center>\n",
    "\n",
    "<center><img src=\"16_analyzed_labeled_prbs3.PNG\" width=\"60%\" height=\"5%\"></center>\n",
    "<center>Figure-17: Object identification & analyze (3)</center><br>\n",
    "\n",
    "From figure-16 and figur-17, we can see that 68 objects have been identified which are either M&M or Nonstop.\n",
    "\n"
   ]
  },
  {
   "cell_type": "markdown",
   "id": "84051a16",
   "metadata": {},
   "source": [
    "### Step12: Establishing the logic behind distinguishing Non Stops from M&Ms <span style=\"color:blue\"> (Approach-01)</span>\n",
    "\n",
    "\n",
    "From the website of ImageJ we know, \n",
    "```    \n",
    "Circ. (circularity) = (4π*area)/perimeter^2 \n",
    "```\n",
    "A value of 1.0 indicates a perfect circle. As the value approaches 0.0, it indicates an increasingly elongated shape. Values may not be valid for very small particles. \n",
    "\n",
    "Sources:\n",
    "- https://imagej.nih.gov/ij/docs/menus/analyze.html#set\n",
    "- https://imagej.nih.gov/ij/docs/guide/146-30.html#toc-Subsection-30.7\n",
    "\n",
    "In general, we know the **Non-Stops** are **circular** and **M&M’s** have a more of an **elongated shape**. \n",
    "\n",
    "So, if the circularity is approximately 1 or over 0.855 then that the object is almost circular. So, according to this, those are Non-stops. Otherwise, those are M&Ms.\n",
    "\n",
    "\n",
    "**Condition for distinguishing Non-Stops from M&Ms:**\n",
    "```\n",
    "If circularity >= 0.855:\n",
    "    It is Non-stop \n",
    "Else:\n",
    "    It is M&M\n",
    "```\n"
   ]
  },
  {
   "cell_type": "markdown",
   "id": "49977f2b",
   "metadata": {},
   "source": [
    "### Step13: Identifying Non-Stops\n",
    "- Goto Analyze → Analyze particles → set Size (1000-Infinity) → set size Circularity (0.855 - 1.0) → Ok \n",
    "\n",
    "\n",
    "<center><img src=\"17_analyze_particle_3.PNG\" width=\"20%\" height=\"2%\"></center>\n",
    "<center>Figure-18:Analyze particles with custom Size & Circularity settings </center>\n",
    "\n",
    "<center><img src=\"20_non_stop_result.PNG\" width=\"60%\" height=\"5%\"></center>\n",
    "<center>Figure-19: Non-stops identification </center>\n",
    "\n",
    "<center><img src=\"18_non_stop_result_1.PNG\" width=\"45%\" height=\"5%\"></center>\n",
    "<center>Figure-20: Non-stops identification & analyze results(1)</center>\n",
    "\n",
    "<center><img src=\"19_non_stop_result_2.PNG\" width=\"45%\" height=\"5%\"></center>\n",
    "<center>Figure-21: Non-stops identification & analyze results(2)</center>\n",
    "\n",
    "From figure-19, figure-20 and figur-21, we can see that 59 Non-stops have been identified that have a circularity within the range of (0.855 to 1.0)\n",
    "\n"
   ]
  },
  {
   "cell_type": "markdown",
   "id": "bde1cfd5",
   "metadata": {},
   "source": [
    "### Step14: Identifying M&Ms\n",
    "- Goto Analyze → Analyze particles → set Size (1000-Infinity) → set size Circularity (0-0.855) → Ok \n",
    "\n",
    "\n",
    "<center><img src=\"23_analyze_particle_4.PNG\" width=\"20%\" height=\"2%\"></center>\n",
    "<center>Figure-22:Analyze particles with custom Size & Circularity settings </center>\n",
    "\n",
    "<center><img src=\"22_M&M_result_2.PNG\" width=\"60%\" height=\"5%\"></center>\n",
    "<center>Figure-23: M&Ms identification </center>\n",
    "\n",
    "<center><img src=\"21_M&M_result_1.PNG\" width=\"45%\" height=\"5%\"></center>\n",
    "<center>Figure-24: M&Ms identification & analyze results</center>\n",
    "\n",
    "\n",
    "\n",
    "From figure-23 and figur-24, we can see that 9 M&Ms have been identified that have a circularity within the range of (0 to 0.855)\n",
    "\n"
   ]
  },
  {
   "cell_type": "markdown",
   "id": "e9b034d0",
   "metadata": {},
   "source": [
    "--------------------------------------------------------------------------------------------\n",
    "--------------------------------------------------------------------------------------------\n",
    "The total number of identified M&Ms & Non-stops sums up to the total number of object identified in the image.\n",
    " \n",
    "= 9(M&Ms)+ 59(Non-stops) = 68(Total object)\n",
    "\n"
   ]
  },
  {
   "cell_type": "markdown",
   "id": "9b515c24",
   "metadata": {},
   "source": [
    "### Step15: Establishing the logic behind distinguishing Non Stops from M&Ms <span style=\"color:blue\"> (Approach-02)</span>\n",
    "\n",
    "**Problem associated with the solution of Step-14 (Approach-01):**\n",
    "\n",
    "From the figure-23, we can see that few of the M&M detected chocolates are not M&Ms. Rather they are half-eaten Non-stops. So, the area/half-eaten characteristic has to be considered while determining the chocolates. \n",
    "\n",
    "If a chocolate has been eaten its area will be less than a full-sized M&M and Non-stop. From the data, I have identified the area of the smallest full non-stop is 60970 and area of the smallest full M&M is 66448.\\\n",
    "So, for determining half-eaten chocolates, I have considered the threhold value of 60000. Any chocolate which has a area less then 60000 is considered half-eaten. \n",
    "\n",
    "Non-Stops have cicularity which is close to 1.0. Since it is half eaten, it will have a circularity greater than or equal to 0.5. Any half eaten chocolate with a circularity less than 0.5 will be considered as M&M.\n",
    "\n",
    "\n",
    "\n",
    "**Updated conditions for distinguishing Non-Stops from M&Ms:**\n",
    "```\n",
    "If area >= 60000: #full chocolate\n",
    "    If circularity >= 0.855:\n",
    "        It is Non-stop \n",
    "    Else:\n",
    "        It is M&M\n",
    "Else: #Half-eaten chocolate\n",
    "    If circularity >= 0.5:\n",
    "        It is Non-stop \n",
    "    Else:\n",
    "        It is M&M\n",
    "```\n",
    "#### Now, from Step-11, loading the data of 68 objects in the CSV file format:"
   ]
  },
  {
   "cell_type": "code",
   "execution_count": 2,
   "id": "48cb59f4",
   "metadata": {},
   "outputs": [
    {
     "data": {
      "text/html": [
       "<div>\n",
       "<style scoped>\n",
       "    .dataframe tbody tr th:only-of-type {\n",
       "        vertical-align: middle;\n",
       "    }\n",
       "\n",
       "    .dataframe tbody tr th {\n",
       "        vertical-align: top;\n",
       "    }\n",
       "\n",
       "    .dataframe thead th {\n",
       "        text-align: right;\n",
       "    }\n",
       "</style>\n",
       "<table border=\"1\" class=\"dataframe\">\n",
       "  <thead>\n",
       "    <tr style=\"text-align: right;\">\n",
       "      <th></th>\n",
       "      <th></th>\n",
       "      <th>Label</th>\n",
       "      <th>Area</th>\n",
       "      <th>XM</th>\n",
       "      <th>YM</th>\n",
       "      <th>Circ.</th>\n",
       "      <th>AR</th>\n",
       "      <th>Round</th>\n",
       "      <th>Solidity</th>\n",
       "    </tr>\n",
       "  </thead>\n",
       "  <tbody>\n",
       "    <tr>\n",
       "      <th>0</th>\n",
       "      <td>1</td>\n",
       "      <td>ans_filledt.tif</td>\n",
       "      <td>60970</td>\n",
       "      <td>2708.55606</td>\n",
       "      <td>173.26311</td>\n",
       "      <td>0.89578</td>\n",
       "      <td>1.03789</td>\n",
       "      <td>0.96349</td>\n",
       "      <td>0.99300</td>\n",
       "    </tr>\n",
       "    <tr>\n",
       "      <th>1</th>\n",
       "      <td>2</td>\n",
       "      <td>ans_filledt.tif</td>\n",
       "      <td>61671</td>\n",
       "      <td>2227.62448</td>\n",
       "      <td>206.40089</td>\n",
       "      <td>0.89106</td>\n",
       "      <td>1.14275</td>\n",
       "      <td>0.87508</td>\n",
       "      <td>0.99267</td>\n",
       "    </tr>\n",
       "    <tr>\n",
       "      <th>2</th>\n",
       "      <td>3</td>\n",
       "      <td>ans_filledt.tif</td>\n",
       "      <td>61428</td>\n",
       "      <td>1304.22880</td>\n",
       "      <td>250.07598</td>\n",
       "      <td>0.89277</td>\n",
       "      <td>1.03102</td>\n",
       "      <td>0.96991</td>\n",
       "      <td>0.99241</td>\n",
       "    </tr>\n",
       "    <tr>\n",
       "      <th>3</th>\n",
       "      <td>4</td>\n",
       "      <td>ans_filledt.tif</td>\n",
       "      <td>63907</td>\n",
       "      <td>3557.76053</td>\n",
       "      <td>281.77218</td>\n",
       "      <td>0.88519</td>\n",
       "      <td>1.08139</td>\n",
       "      <td>0.92473</td>\n",
       "      <td>0.99194</td>\n",
       "    </tr>\n",
       "    <tr>\n",
       "      <th>4</th>\n",
       "      <td>5</td>\n",
       "      <td>ans_filledt.tif</td>\n",
       "      <td>64895</td>\n",
       "      <td>3112.73660</td>\n",
       "      <td>336.20922</td>\n",
       "      <td>0.88803</td>\n",
       "      <td>1.05367</td>\n",
       "      <td>0.94906</td>\n",
       "      <td>0.99201</td>\n",
       "    </tr>\n",
       "  </tbody>\n",
       "</table>\n",
       "</div>"
      ],
      "text/plain": [
       "                Label   Area          XM         YM    Circ.       AR  \\\n",
       "0  1  ans_filledt.tif  60970  2708.55606  173.26311  0.89578  1.03789   \n",
       "1  2  ans_filledt.tif  61671  2227.62448  206.40089  0.89106  1.14275   \n",
       "2  3  ans_filledt.tif  61428  1304.22880  250.07598  0.89277  1.03102   \n",
       "3  4  ans_filledt.tif  63907  3557.76053  281.77218  0.88519  1.08139   \n",
       "4  5  ans_filledt.tif  64895  3112.73660  336.20922  0.88803  1.05367   \n",
       "\n",
       "     Round  Solidity  \n",
       "0  0.96349   0.99300  \n",
       "1  0.87508   0.99267  \n",
       "2  0.96991   0.99241  \n",
       "3  0.92473   0.99194  \n",
       "4  0.94906   0.99201  "
      ]
     },
     "execution_count": 2,
     "metadata": {},
     "output_type": "execute_result"
    }
   ],
   "source": [
    "#Importing necessary modules\n",
    "import pandas as pd\n",
    "import numpy as np\n",
    "from matplotlib import pyplot as plt\n",
    "\n",
    "#Reading in csv-file from step-11 (with the data of all objects in the image)\n",
    "file_name = \"Results_2_68_OBJ.csv\"\n",
    "df_raw = pd.read_csv(file_name, sep = \",\")\n",
    "\n",
    "#Inspecting  first rows of the dataset \n",
    "df_raw.head()"
   ]
  },
  {
   "cell_type": "markdown",
   "id": "7278ea30",
   "metadata": {},
   "source": [
    "#### Creating a new dataframe with only the necessary parameters(object number, area & circularity) :"
   ]
  },
  {
   "cell_type": "code",
   "execution_count": 3,
   "id": "0e095b1f",
   "metadata": {},
   "outputs": [
    {
     "name": "stdout",
     "output_type": "stream",
     "text": [
      "   Object Number   Area  Circularity\n",
      "0              1  60970      0.89578\n",
      "1              2  61671      0.89106\n",
      "2              3  61428      0.89277\n",
      "3              4  63907      0.88519\n",
      "4              5  64895      0.88803\n"
     ]
    }
   ],
   "source": [
    "data = df_raw.iloc[:,[2,5]]\n",
    "data.columns = data.columns.str.replace('Circ.', 'Circularity', regex = False)\n",
    "data.insert(loc=0, column = 'Object Number', value = list(range(1,len(data)+1)))\n",
    "\n",
    "print(data.head())"
   ]
  },
  {
   "cell_type": "markdown",
   "id": "5d6e9900",
   "metadata": {},
   "source": [
    "#### Determining full chocolates and their numbers:"
   ]
  },
  {
   "cell_type": "code",
   "execution_count": 39,
   "id": "c7c0af04",
   "metadata": {},
   "outputs": [
    {
     "name": "stdout",
     "output_type": "stream",
     "text": [
      "No of full chocolates: 63\n",
      "\n",
      "No of full Non_stops: 61\n",
      "Non-stops: [1, 2, 3, 4, 5, 6, 7, 8, 10, 12, 13, 14, 15, 16, 17, 18, 19, 20, 21, 23, 24, 25, 26, 27, 28, 29, 30, 31, 33, 34, 36, 37, 38, 39, 40, 41, 42, 44, 45, 46, 47, 48, 49, 51, 52, 53, 54, 55, 56, 57, 58, 59, 60, 61, 62, 63, 64, 65, 66, 67, 68]\n",
      "\n",
      "No of full M&Ms: 2\n",
      "M&Ms: [11, 32]\n",
      "No of half chocolates: 5\n"
     ]
    },
    {
     "data": {
      "text/html": [
       "<div>\n",
       "<style scoped>\n",
       "    .dataframe tbody tr th:only-of-type {\n",
       "        vertical-align: middle;\n",
       "    }\n",
       "\n",
       "    .dataframe tbody tr th {\n",
       "        vertical-align: top;\n",
       "    }\n",
       "\n",
       "    .dataframe thead th {\n",
       "        text-align: right;\n",
       "    }\n",
       "</style>\n",
       "<table border=\"1\" class=\"dataframe\">\n",
       "  <thead>\n",
       "    <tr style=\"text-align: right;\">\n",
       "      <th></th>\n",
       "      <th>Object Number</th>\n",
       "      <th>Area</th>\n",
       "      <th>Circularity</th>\n",
       "    </tr>\n",
       "  </thead>\n",
       "  <tbody>\n",
       "    <tr>\n",
       "      <th>10</th>\n",
       "      <td>11</td>\n",
       "      <td>66736</td>\n",
       "      <td>0.84640</td>\n",
       "    </tr>\n",
       "    <tr>\n",
       "      <th>31</th>\n",
       "      <td>32</td>\n",
       "      <td>65447</td>\n",
       "      <td>0.83765</td>\n",
       "    </tr>\n",
       "  </tbody>\n",
       "</table>\n",
       "</div>"
      ],
      "text/plain": [
       "    Object Number   Area  Circularity\n",
       "10             11  66736      0.84640\n",
       "31             32  65447      0.83765"
      ]
     },
     "execution_count": 39,
     "metadata": {},
     "output_type": "execute_result"
    }
   ],
   "source": [
    "full_choco = data[data['Area'] >= 60000]\n",
    "print(\"No of full chocolates:\", len(full_choco))\n",
    "print()\n",
    "\n",
    "full_non_stops = full_choco[full_choco['Circularity'] >0.854]\n",
    "full_M_and_Ms = full_choco[full_choco['Circularity'] <= 0.8546]\n",
    "\n",
    "print(\"No of full Non_stops:\", len(full_non_stops))\n",
    "print(\"Non-stops:\", list(full_non_stops['Object Number']))\n",
    "print()\n",
    "\n",
    "print(\"No of full M&Ms:\", len(full_M_and_Ms))\n",
    "print(\"M&Ms:\", list(full_M_and_Ms['Object Number']))\n",
    "\n",
    "print(\"No of half chocolates:\", len(data)-(len(full_non_stops)+len(full_M_and_Ms) ))\n",
    "full_M_and_Ms"
   ]
  },
  {
   "cell_type": "markdown",
   "id": "eeb4c842",
   "metadata": {},
   "source": [
    "#### Determining half chocolates and their numbers:"
   ]
  },
  {
   "cell_type": "code",
   "execution_count": 9,
   "id": "0cfceeb1",
   "metadata": {},
   "outputs": [
    {
     "name": "stdout",
     "output_type": "stream",
     "text": [
      "No of half eaten chocolates: 5\n",
      "Half-eaten chocolates: [9, 22, 35, 43, 50]\n",
      "\n",
      "No of half-eaten Non-stops: 3\n",
      "Half-eaten Non-stops: [9, 22, 50]\n",
      "\n",
      "No of half-eaten M&Ms: 0\n",
      "Half-eaten M&Ms: []\n"
     ]
    }
   ],
   "source": [
    "half_eaten = data[data['Area'] < 60000]\n",
    "print(\"No of half eaten chocolates:\", len(half_eaten))\n",
    "print(\"Half-eaten chocolates:\", list(half_eaten['Object Number']))\n",
    "print()\n",
    "\n",
    "half_non_stops = half_eaten[np.logical_and(half_eaten['Circularity'] >=0.5, half_eaten['Circularity']<=0.75)]\n",
    "print(\"No of half-eaten Non-stops:\", len(half_non_stops))\n",
    "print(\"Half-eaten Non-stops:\",  list(half_non_stops['Object Number']))\n",
    "print()\n",
    "\n",
    "half_M_n_Ms = half_eaten[np.logical_and(half_eaten['Circularity'] <0.5 , half_eaten['Circularity']>0.75)]\n",
    "print(\"No of half-eaten M&Ms:\", len(half_M_n_Ms))\n",
    "print(\"Half-eaten M&Ms:\",  list(half_M_n_Ms['Object Number']))"
   ]
  },
  {
   "cell_type": "markdown",
   "id": "40f654c3",
   "metadata": {},
   "source": [
    "#### Finally, the answers generated by the code were able to sucessfully identify Non-stops and M&M despite few of the chocolates being half eaten."
   ]
  },
  {
   "cell_type": "code",
   "execution_count": null,
   "id": "8dc8d21e",
   "metadata": {},
   "outputs": [],
   "source": []
  }
 ],
 "metadata": {
  "kernelspec": {
   "display_name": "Python 3 (ipykernel)",
   "language": "python",
   "name": "python3"
  },
  "language_info": {
   "codemirror_mode": {
    "name": "ipython",
    "version": 3
   },
   "file_extension": ".py",
   "mimetype": "text/x-python",
   "name": "python",
   "nbconvert_exporter": "python",
   "pygments_lexer": "ipython3",
   "version": "3.9.12"
  }
 },
 "nbformat": 4,
 "nbformat_minor": 5
}
