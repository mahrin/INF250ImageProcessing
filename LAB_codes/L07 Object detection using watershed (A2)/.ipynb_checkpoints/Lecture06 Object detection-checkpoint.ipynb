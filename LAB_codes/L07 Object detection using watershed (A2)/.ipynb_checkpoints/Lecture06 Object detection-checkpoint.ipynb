{
 "cells": [
  {
   "cell_type": "code",
   "execution_count": 3,
   "id": "786089db",
   "metadata": {},
   "outputs": [],
   "source": [
    "#!/usr/bin/env python3\n",
    "# -*- coding: utf-8 -*-\n",
    "\"\"\"\n",
    "Created on Mon Oct 14 09:10:21 2019\n",
    "\n",
    "@author: ingunn\n",
    "\"\"\"\n",
    "\n",
    "from skimage.morphology import skeletonize, dilation, opening, square\n",
    "from skimage.morphology import erosion, closing\n",
    "from skimage import data\n",
    "import matplotlib.pyplot as plt\n",
    "from skimage.color import rgb2gray\n",
    "import numpy as np\n",
    "from skimage import io\n",
    "from skimage.filters import threshold_mean#for binarising"
   ]
  },
  {
   "cell_type": "code",
   "execution_count": null,
   "id": "af599a64",
   "metadata": {},
   "outputs": [],
   "source": [
    "def get_binary_image(name):\n",
    "    \"\"\" Using the skimage.io import the image with the file name.\n",
    "    This function returns the gray image as numpy array \"\"\"\n",
    "    \n",
    "    #Getting the image  \n",
    "    #filename = '../Images/'+name\n",
    "    filename = name\n",
    "    image = io.imread(filename, as_gray = True) \n",
    "    \n",
    "    #binarising\n",
    "    thresh = threshold_mean(image)\n",
    "    binary = image > thresh\n",
    "\n",
    "    return binary"
   ]
  },
  {
   "cell_type": "code",
   "execution_count": 4,
   "id": "236f8578",
   "metadata": {},
   "outputs": [],
   "source": [
    "def show_image(image, label =\"Image:\", size=(6,2)):\n",
    "    \"\"\"This function shows/plots the given image.\"\"\"\n",
    "    plt.subplots(1,1,figsize=size)\n",
    "    plt.title(label = label, fontsize=12)\n",
    "    plt.imshow(image, cmap='gray') \n",
    "    plt.show()"
   ]
  },
  {
   "cell_type": "code",
   "execution_count": 5,
   "id": "3ab14029",
   "metadata": {},
   "outputs": [
    {
     "ename": "NameError",
     "evalue": "name 'io' is not defined",
     "output_type": "error",
     "traceback": [
      "\u001b[1;31m---------------------------------------------------------------------------\u001b[0m",
      "\u001b[1;31mNameError\u001b[0m                                 Traceback (most recent call last)",
      "Input \u001b[1;32mIn [5]\u001b[0m, in \u001b[0;36m<cell line: 1>\u001b[1;34m()\u001b[0m\n\u001b[1;32m----> 1\u001b[0m image \u001b[38;5;241m=\u001b[39m \u001b[43mget_binary_image\u001b[49m\u001b[43m(\u001b[49m\u001b[38;5;124;43m\"\u001b[39;49m\u001b[38;5;124;43mIMG_2754_nonstop_alltogether.JPG\u001b[39;49m\u001b[38;5;124;43m\"\u001b[39;49m\u001b[43m)\u001b[49m\n\u001b[0;32m      2\u001b[0m show_image(image, \u001b[38;5;124m\"\u001b[39m\u001b[38;5;124mOriginal Binary image\u001b[39m\u001b[38;5;124m\"\u001b[39m)\n",
      "Input \u001b[1;32mIn [3]\u001b[0m, in \u001b[0;36mget_binary_image\u001b[1;34m(name)\u001b[0m\n\u001b[0;32m      5\u001b[0m \u001b[38;5;66;03m#Getting the image  \u001b[39;00m\n\u001b[0;32m      6\u001b[0m \u001b[38;5;66;03m#filename = '../Images/'+name\u001b[39;00m\n\u001b[0;32m      7\u001b[0m filename \u001b[38;5;241m=\u001b[39m name\n\u001b[1;32m----> 8\u001b[0m image \u001b[38;5;241m=\u001b[39m \u001b[43mio\u001b[49m\u001b[38;5;241m.\u001b[39mimread(filename, as_gray \u001b[38;5;241m=\u001b[39m \u001b[38;5;28;01mTrue\u001b[39;00m) \n\u001b[0;32m     10\u001b[0m \u001b[38;5;66;03m#binarising\u001b[39;00m\n\u001b[0;32m     11\u001b[0m thresh \u001b[38;5;241m=\u001b[39m threshold_mean(image)\n",
      "\u001b[1;31mNameError\u001b[0m: name 'io' is not defined"
     ]
    }
   ],
   "source": [
    "image = get_binary_image(\"IMG_2754_nonstop_alltogether.JPG\")\n",
    "show_image(image, \"Original Binary image\")"
   ]
  },
  {
   "cell_type": "code",
   "execution_count": null,
   "id": "51ef09c0",
   "metadata": {},
   "outputs": [],
   "source": [
    "def fill_holes(image):\n",
    "    #Dilating for filling hole of the image\n",
    "    filled_dialated_image = np.invert(image)\n",
    "    for i in range(5):\n",
    "        filled_dialated_image = dilation(filled_dialated_image,square(7))\n",
    "    #     show_image(eroded_image, \"Erosion \"+str(i))\n",
    "\n",
    "    filled_dialated_image = np.invert(filled_dialated_image)\n",
    "    return filled_dialated_image"
   ]
  },
  {
   "cell_type": "code",
   "execution_count": null,
   "id": "6ec56ce1",
   "metadata": {},
   "outputs": [],
   "source": [
    "filled_dialated_image = fill_holes(image)\n",
    "show_image(filled_dialated_image, \"filled_dialated_image\")\n"
   ]
  }
 ],
 "metadata": {
  "kernelspec": {
   "display_name": "Python 3 (ipykernel)",
   "language": "python",
   "name": "python3"
  },
  "language_info": {
   "codemirror_mode": {
    "name": "ipython",
    "version": 3
   },
   "file_extension": ".py",
   "mimetype": "text/x-python",
   "name": "python",
   "nbconvert_exporter": "python",
   "pygments_lexer": "ipython3",
   "version": "3.9.12"
  }
 },
 "nbformat": 4,
 "nbformat_minor": 5
}
